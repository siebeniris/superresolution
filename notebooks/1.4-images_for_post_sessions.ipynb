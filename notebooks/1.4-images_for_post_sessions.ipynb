{
 "cells": [
  {
   "cell_type": "code",
   "execution_count": 1,
   "metadata": {},
   "outputs": [
    {
     "name": "stdout",
     "output_type": "stream",
     "text": [
      "/home/yiyi/Documents/computerlinguistik-master/ss2019/superresoluton/notebooks\n"
     ]
    }
   ],
   "source": [
    "!pwd\n"
   ]
  },
  {
   "cell_type": "code",
   "execution_count": 3,
   "metadata": {},
   "outputs": [],
   "source": [
    "data_dir='/home/yiyi/Documents/computerlinguistik-master/ss2019/superresoluton/data/interim/'"
   ]
  },
  {
   "cell_type": "code",
   "execution_count": 5,
   "metadata": {},
   "outputs": [],
   "source": [
    "coords_dict_file = data_dir+'coords_dict.json'\n",
    "slices_dict_file = data_dir + 'images_30m_slices_dict.json'"
   ]
  },
  {
   "cell_type": "code",
   "execution_count": 47,
   "metadata": {},
   "outputs": [],
   "source": [
    "import json\n",
    "with open(coords_dict_file,'r') as file:\n",
    "    coords_dict=json.load(file)\n",
    "with open(slices_dict_file, 'r') as file:\n",
    "    slices_dict = json.load(file)"
   ]
  },
  {
   "cell_type": "code",
   "execution_count": 7,
   "metadata": {},
   "outputs": [
    {
     "data": {
      "text/plain": [
       "2724"
      ]
     },
     "execution_count": 7,
     "metadata": {},
     "output_type": "execute_result"
    }
   ],
   "source": [
    "len(coords_dict.values())"
   ]
  },
  {
   "cell_type": "code",
   "execution_count": 8,
   "metadata": {},
   "outputs": [
    {
     "data": {
      "text/plain": [
       "186"
      ]
     },
     "execution_count": 8,
     "metadata": {},
     "output_type": "execute_result"
    }
   ],
   "source": [
    "len(slices_dict.values())"
   ]
  },
  {
   "cell_type": "code",
   "execution_count": 9,
   "metadata": {},
   "outputs": [],
   "source": [
    "from itertools import chain"
   ]
  },
  {
   "cell_type": "code",
   "execution_count": 12,
   "metadata": {},
   "outputs": [],
   "source": [
    "coords_30m = [x for x in chain.from_iterable(slices_dict.values())]"
   ]
  },
  {
   "cell_type": "code",
   "execution_count": 13,
   "metadata": {},
   "outputs": [
    {
     "data": {
      "text/plain": [
       "537"
      ]
     },
     "execution_count": 13,
     "metadata": {},
     "output_type": "execute_result"
    }
   ],
   "source": [
    "len(coords_30m)"
   ]
  },
  {
   "cell_type": "code",
   "execution_count": 14,
   "metadata": {},
   "outputs": [],
   "source": [
    "coords_5m = [x for x in chain.from_iterable(coords_dict.values())]"
   ]
  },
  {
   "cell_type": "code",
   "execution_count": 15,
   "metadata": {},
   "outputs": [
    {
     "data": {
      "text/plain": [
       "6847"
      ]
     },
     "execution_count": 15,
     "metadata": {},
     "output_type": "execute_result"
    }
   ],
   "source": [
    "len(coords_5m)"
   ]
  },
  {
   "cell_type": "code",
   "execution_count": 26,
   "metadata": {
    "scrolled": true
   },
   "outputs": [
    {
     "data": {
      "text/plain": [
       "['site_464_201710_030m_ortho_als11_3channels_cut-14848-768',\n",
       " 'site_464_201710_030m_ortho_als11_3channels_cut-6656-1280',\n",
       " 'site_464_201710_030m_ortho_als11_3channels_cut-13312-768',\n",
       " 'site_464_201710_030m_ortho_als11_3channels_cut-12544-2048',\n",
       " 'site_464_201710_030m_ortho_als11_3channels_cut-9728-1536',\n",
       " 'site_464_201710_030m_ortho_als11_3channels_cut-1792-1792',\n",
       " 'site_464_201710_030m_ortho_als11_3channels_cut-12800-1280',\n",
       " 'site_464_201710_030m_ortho_als11_3channels_cut-10752-768',\n",
       " 'site_464_201710_030m_ortho_als11_3channels_cut-7680-1024',\n",
       " 'site_464_201710_030m_ortho_als11_3channels_cut-11776-1280',\n",
       " 'site_464_201710_030m_ortho_als11_3channels_cut-2816-1280',\n",
       " 'site_464_201710_030m_ortho_als11_3channels_cut-8960-0',\n",
       " 'site_464_201710_030m_ortho_als11_3channels_cut-20224-768',\n",
       " 'site_464_201710_030m_ortho_als11_3channels_cut-8704-768',\n",
       " 'site_464_201710_030m_ortho_als11_3channels_cut-9984-1024',\n",
       " 'site_464_201710_030m_ortho_als11_3channels_cut-7680-1280',\n",
       " 'site_464_201710_030m_ortho_als11_3channels_cut-5376-512',\n",
       " 'site_464_201710_030m_ortho_als11_3channels_cut-17408-1280',\n",
       " 'site_464_201710_030m_ortho_als11_3channels_cut-8960-2048',\n",
       " 'site_464_201710_030m_ortho_als11_3channels_cut-18944-768',\n",
       " 'site_464_201710_030m_ortho_als11_3channels_cut-4352-2048',\n",
       " 'site_464_201710_030m_ortho_als11_3channels_cut-18688-1024',\n",
       " 'site_464_201710_030m_ortho_als11_3channels_cut-17664-1024',\n",
       " 'site_464_201710_030m_ortho_als11_3channels_cut-13312-512',\n",
       " 'site_464_201710_030m_ortho_als11_3channels_cut-16896-2048',\n",
       " 'site_464_201710_030m_ortho_als11_3channels_cut-6912-0',\n",
       " 'site_464_201710_030m_ortho_als11_3channels_cut-0-0',\n",
       " 'site_464_201710_030m_ortho_als11_3channels_cut-4096-1280',\n",
       " 'site_464_201710_030m_ortho_als11_3channels_cut-6912-256',\n",
       " 'site_464_201710_030m_ortho_als11_3channels_cut-3328-256',\n",
       " 'site_464_201710_030m_ortho_als11_3channels_cut-8960-1280',\n",
       " 'site_464_201710_030m_ortho_als11_3channels_cut-17920-1024',\n",
       " 'site_464_201710_030m_ortho_als11_3channels_cut-19200-1024',\n",
       " 'site_464_201710_030m_ortho_als11_3channels_cut-1024-1536',\n",
       " 'site_464_201710_030m_ortho_als11_3channels_cut-13568-768',\n",
       " 'site_464_201710_030m_ortho_als11_3channels_cut-512-1792',\n",
       " 'site_464_201710_030m_ortho_als11_3channels_cut-17920-768',\n",
       " 'site_464_201710_030m_ortho_als11_3channels_cut-18944-1024',\n",
       " 'site_464_201710_030m_ortho_als11_3channels_cut-20480-768',\n",
       " 'site_464_201710_030m_ortho_als11_3channels_cut-9728-1024',\n",
       " 'site_464_201710_030m_ortho_als11_3channels_cut-12544-1024',\n",
       " 'site_464_201710_030m_ortho_als11_3channels_cut-12032-768',\n",
       " 'site_464_201710_030m_ortho_als11_3channels_cut-6400-1024',\n",
       " 'site_464_201710_030m_ortho_als11_3channels_cut-20224-1280',\n",
       " 'site_464_201710_030m_ortho_als11_3channels_cut-4096-2048',\n",
       " 'site_464_201710_030m_ortho_als11_3channels_cut-16896-1280',\n",
       " 'site_464_201710_030m_ortho_als11_3channels_cut-7936-256',\n",
       " 'site_464_201710_030m_ortho_als11_3channels_cut-17664-768',\n",
       " 'site_464_201710_030m_ortho_als11_3channels_cut-18944-1280',\n",
       " 'site_464_201710_030m_ortho_als11_3channels_cut-2816-768',\n",
       " 'site_464_201710_030m_ortho_als11_3channels_cut-8448-1024',\n",
       " 'site_464_201710_030m_ortho_als11_3channels_cut-20736-768',\n",
       " 'site_464_201710_030m_ortho_als11_3channels_cut-6400-1280',\n",
       " 'site_464_201710_030m_ortho_als11_3channels_cut-9216-1024',\n",
       " 'site_464_201710_030m_ortho_als11_3channels_cut-4864-0',\n",
       " 'site_464_201710_030m_ortho_als11_3channels_cut-20224-1536',\n",
       " 'site_464_201710_030m_ortho_als11_3channels_cut-16128-1280',\n",
       " 'site_464_201710_030m_ortho_als11_3channels_cut-13056-1280',\n",
       " 'site_464_201710_030m_ortho_als11_3channels_cut-20736-1280',\n",
       " 'site_464_201710_030m_ortho_als11_3channels_cut-19712-1024',\n",
       " 'site_464_201710_030m_ortho_als11_3channels_cut-12032-1536',\n",
       " 'site_464_201710_030m_ortho_als11_3channels_cut-10496-1280',\n",
       " 'site_464_201710_030m_ortho_als11_3channels_cut-11264-1792',\n",
       " 'site_464_201710_030m_ortho_als11_3channels_cut-18432-1536',\n",
       " 'site_464_201710_030m_ortho_als11_3channels_cut-8192-0',\n",
       " 'site_464_201710_030m_ortho_als11_3channels_cut-9216-1280',\n",
       " 'site_464_201710_030m_ortho_als11_3channels_cut-19968-1280',\n",
       " 'site_464_201710_030m_ortho_als11_3channels_cut-11264-1280',\n",
       " 'site_464_201710_030m_ortho_als11_3channels_cut-16384-1280',\n",
       " 'site_464_201710_030m_ortho_als11_3channels_cut-5120-512',\n",
       " 'site_464_201710_030m_ortho_als11_3channels_cut-1024-1792',\n",
       " 'site_464_201710_030m_ortho_als11_3channels_cut-3840-2048',\n",
       " 'site_464_201710_030m_ortho_als11_3channels_cut-256-0',\n",
       " 'site_464_201710_030m_ortho_als11_3channels_cut-17664-1280',\n",
       " 'site_464_201710_030m_ortho_als11_3channels_cut-12288-1536',\n",
       " 'site_464_201710_030m_ortho_als11_3channels_cut-1024-256',\n",
       " 'site_464_201710_030m_ortho_als11_3channels_cut-6656-1024',\n",
       " 'site_464_201710_030m_ortho_als11_3channels_cut-7168-1024',\n",
       " 'site_464_201710_030m_ortho_als11_3channels_cut-5376-256',\n",
       " 'site_464_201710_030m_ortho_als11_3channels_cut-7936-512',\n",
       " 'site_464_201710_030m_ortho_als11_3channels_cut-13568-1280',\n",
       " 'site_464_201710_030m_ortho_als11_3channels_cut-12288-512',\n",
       " 'site_464_201710_030m_ortho_als11_3channels_cut-4608-768',\n",
       " 'site_464_201710_030m_ortho_als11_3channels_cut-8960-1024',\n",
       " 'site_464_201710_030m_ortho_als11_3channels_cut-19712-1280',\n",
       " 'site_464_201710_030m_ortho_als11_3channels_cut-5888-512',\n",
       " 'site_464_201710_030m_ortho_als11_3channels_cut-9984-1536',\n",
       " 'site_464_201710_030m_ortho_als11_3channels_cut-20736-1024',\n",
       " 'site_464_201710_030m_ortho_als11_3channels_cut-5376-768',\n",
       " 'site_464_201710_030m_ortho_als11_3channels_cut-10240-1024',\n",
       " 'site_464_201710_030m_ortho_als11_3channels_cut-10496-0',\n",
       " 'site_464_201710_030m_ortho_als11_3channels_cut-12288-1792',\n",
       " 'site_464_201710_030m_ortho_als11_3channels_cut-3584-1536',\n",
       " 'site_464_201710_030m_ortho_als11_3channels_cut-11264-1024',\n",
       " 'site_464_201710_030m_ortho_als11_3channels_cut-20224-1024',\n",
       " 'site_464_201710_030m_ortho_als11_3channels_cut-8192-1024',\n",
       " 'site_464_201710_030m_ortho_als11_3channels_cut-10752-1024',\n",
       " 'site_464_201710_030m_ortho_als11_3channels_cut-8704-512',\n",
       " 'site_464_201710_030m_ortho_als11_3channels_cut-19456-1024',\n",
       " 'site_464_201710_030m_ortho_als11_3channels_cut-17152-512',\n",
       " 'site_464_201710_030m_ortho_als11_3channels_cut-19456-768',\n",
       " 'site_464_201710_030m_ortho_als11_3channels_cut-16640-1280',\n",
       " 'site_464_201710_030m_ortho_als11_3channels_cut-9216-1536',\n",
       " 'site_464_201710_030m_ortho_als11_3channels_cut-7936-2048',\n",
       " 'site_464_201710_030m_ortho_als11_3channels_cut-12544-1280',\n",
       " 'site_464_201710_030m_ortho_als11_3channels_cut-4352-1280',\n",
       " 'site_464_201710_030m_ortho_als11_3channels_cut-3072-1280',\n",
       " 'site_464_201710_030m_ortho_als11_3channels_cut-18176-768',\n",
       " 'site_464_201710_030m_ortho_als11_3channels_cut-3840-1280',\n",
       " 'site_464_201710_030m_ortho_als11_3channels_cut-10752-1280',\n",
       " 'site_464_201710_030m_ortho_als11_3channels_cut-17408-1024',\n",
       " 'site_464_201710_030m_ortho_als11_3channels_cut-7936-1792',\n",
       " 'site_464_201710_030m_ortho_als11_3channels_cut-5376-1280',\n",
       " 'site_464_201710_030m_ortho_als11_3channels_cut-9728-256',\n",
       " 'site_464_201710_030m_ortho_als11_3channels_cut-12288-2048',\n",
       " 'site_464_201710_030m_ortho_als11_3channels_cut-9216-512',\n",
       " 'site_464_201710_030m_ortho_als11_3channels_cut-16128-1792',\n",
       " 'site_464_201710_030m_ortho_als11_3channels_cut-4608-256',\n",
       " 'site_464_201710_030m_ortho_als11_3channels_cut-19200-768',\n",
       " 'site_464_201710_030m_ortho_als11_3channels_cut-256-1536',\n",
       " 'site_464_201710_030m_ortho_als11_3channels_cut-9472-1024',\n",
       " 'site_464_201710_030m_ortho_als11_3channels_cut-11776-2048',\n",
       " 'site_464_201710_030m_ortho_als11_3channels_cut-7168-1280',\n",
       " 'site_464_201710_030m_ortho_als11_3channels_cut-6144-1280',\n",
       " 'site_464_201710_030m_ortho_als11_3channels_cut-0-1024',\n",
       " 'site_464_201710_030m_ortho_als11_3channels_cut-19968-1024',\n",
       " 'site_464_201710_030m_ortho_als11_3channels_cut-16896-768',\n",
       " 'site_464_201710_030m_ortho_als11_3channels_cut-8704-256',\n",
       " 'site_464_201710_030m_ortho_als11_3channels_cut-512-512',\n",
       " 'site_464_201710_030m_ortho_als11_3channels_cut-12544-512',\n",
       " 'site_464_201710_030m_ortho_als11_3channels_cut-18688-1280',\n",
       " 'site_464_201710_030m_ortho_als11_3channels_cut-2816-1024',\n",
       " 'site_464_201710_030m_ortho_als11_3channels_cut-9472-2048',\n",
       " 'site_464_201710_030m_ortho_als11_3channels_cut-3584-1792',\n",
       " 'site_464_201710_030m_ortho_als11_3channels_cut-20480-1536',\n",
       " 'site_464_201710_030m_ortho_als11_3channels_cut-10496-768',\n",
       " 'site_464_201710_030m_ortho_als11_3channels_cut-16128-256',\n",
       " 'site_464_201710_030m_ortho_als11_3channels_cut-19456-1280',\n",
       " 'site_464_201710_030m_ortho_als11_3channels_cut-5632-1024',\n",
       " 'site_464_201710_030m_ortho_als11_3channels_cut-17408-0',\n",
       " 'site_464_201710_030m_ortho_als11_3channels_cut-5632-1280',\n",
       " 'site_464_201710_030m_ortho_als11_3channels_cut-9216-256',\n",
       " 'site_464_201710_030m_ortho_als11_3channels_cut-9728-768',\n",
       " 'site_464_201710_030m_ortho_als11_3channels_cut-11008-1024',\n",
       " 'site_464_201710_030m_ortho_als11_3channels_cut-7168-1792',\n",
       " 'site_464_201710_030m_ortho_als11_3channels_cut-20480-1024',\n",
       " 'site_464_201710_030m_ortho_als11_3channels_cut-8704-1280',\n",
       " 'site_464_201710_030m_ortho_als11_3channels_cut-18176-512',\n",
       " 'site_464_201710_030m_ortho_als11_3channels_cut-16384-1536',\n",
       " 'site_464_201710_030m_ortho_als11_3channels_cut-10496-1024',\n",
       " 'site_464_201710_030m_ortho_als11_3channels_cut-10496-256',\n",
       " 'site_464_201710_030m_ortho_als11_3channels_cut-7936-1280',\n",
       " 'site_464_201710_030m_ortho_als11_3channels_cut-15616-1280',\n",
       " 'site_464_201710_030m_ortho_als11_3channels_cut-9728-1280',\n",
       " 'site_464_201710_030m_ortho_als11_3channels_cut-3328-2048',\n",
       " 'site_464_201710_030m_ortho_als11_3channels_cut-10496-1536',\n",
       " 'site_464_201710_030m_ortho_als11_3channels_cut-18432-1024',\n",
       " 'site_464_201710_030m_ortho_als11_3channels_cut-9216-2048',\n",
       " 'site_464_201710_030m_ortho_als11_3channels_cut-20480-1280',\n",
       " 'site_464_201710_030m_ortho_als11_3channels_cut-12544-1536',\n",
       " 'site_464_201710_030m_ortho_als11_3channels_cut-2304-1792',\n",
       " 'site_464_201710_030m_ortho_als11_3channels_cut-12032-256',\n",
       " 'site_464_201710_030m_ortho_als11_3channels_cut-5376-1024',\n",
       " 'site_464_201710_030m_ortho_als11_3channels_cut-8960-256',\n",
       " 'site_464_201710_030m_ortho_als11_3channels_cut-15360-1024',\n",
       " 'site_464_201710_030m_ortho_als11_3channels_cut-6912-1280',\n",
       " 'site_464_201710_030m_ortho_als11_3channels_cut-15872-1280',\n",
       " 'site_464_201710_030m_ortho_als11_3channels_cut-3072-512',\n",
       " 'site_464_201710_030m_ortho_als11_3channels_cut-9472-1280',\n",
       " 'site_464_201710_030m_ortho_als11_3channels_cut-5120-1280',\n",
       " 'site_464_201710_030m_ortho_als11_3channels_cut-18176-1024',\n",
       " 'site_464_201710_030m_ortho_als11_3channels_cut-14592-768',\n",
       " 'site_464_201710_030m_ortho_als11_3channels_cut-12288-256',\n",
       " 'site_464_201710_030m_ortho_als11_3channels_cut-7680-2048',\n",
       " 'site_464_201710_030m_ortho_als11_3channels_cut-17152-1280',\n",
       " 'site_464_201710_030m_ortho_als11_3channels_cut-19200-1280',\n",
       " 'site_464_201710_030m_ortho_als11_3channels_cut-7936-1024',\n",
       " 'site_464_201710_030m_ortho_als11_3channels_cut-7168-512',\n",
       " 'site_464_201710_030m_ortho_als11_3channels_cut-5888-1280',\n",
       " 'site_464_201710_030m_ortho_als11_3channels_cut-11264-1536',\n",
       " 'site_464_201710_030m_ortho_als11_3channels_cut-3584-1280',\n",
       " 'site_464_201710_030m_ortho_als11_3channels_cut-8192-256',\n",
       " 'site_464_201710_030m_ortho_als11_3channels_cut-7168-768',\n",
       " 'site_464_201710_030m_ortho_als11_3channels_cut-8448-768',\n",
       " 'site_464_201710_030m_ortho_als11_3channels_cut-10240-1280',\n",
       " 'site_464_201710_030m_ortho_als11_3channels_cut-11008-1280']"
      ]
     },
     "execution_count": 26,
     "metadata": {},
     "output_type": "execute_result"
    }
   ],
   "source": [
    "## choose coords for 30m images\n",
    "small= 1405\n",
    "middle= 2560\n",
    "\n",
    "import random\n",
    "\n",
    "\n",
    "keys_30m = list(slices_dict.keys())\n",
    "random.shuffle(keys_30m)\n",
    "keys_30m"
   ]
  },
  {
   "cell_type": "code",
   "execution_count": 28,
   "metadata": {},
   "outputs": [],
   "source": [
    "from collections import defaultdict\n",
    "\n",
    "small_count, middle_count, large_count = 0,0,0\n",
    "\n",
    "new_slices_dict = defaultdict(list)\n",
    "\n",
    "for key in keys_30m :\n",
    "    values= slices_dict[key]\n",
    "    for value in values:\n",
    "        xmin, ymin, xmax, ymax= value\n",
    "        area = (xmax-xmin)*(ymax-ymin)\n",
    "        if area< small and small_count< 135:\n",
    "            new_slices_dict[key].append(value)\n",
    "            small_count+=1\n",
    "        if small<=area<middle and middle_count < 135:\n",
    "            new_slices_dict[key].append(value)\n",
    "            middle_count+=1\n",
    "        if area >= middle and large_count <135:\n",
    "            new_slices_dict[key].append(value)\n",
    "            large_count +=1 "
   ]
  },
  {
   "cell_type": "code",
   "execution_count": 30,
   "metadata": {},
   "outputs": [],
   "source": [
    "bboxes_new = [x for x in chain.from_iterable(new_slices_dict.values())]"
   ]
  },
  {
   "cell_type": "code",
   "execution_count": 31,
   "metadata": {},
   "outputs": [
    {
     "data": {
      "text/plain": [
       "405"
      ]
     },
     "execution_count": 31,
     "metadata": {},
     "output_type": "execute_result"
    }
   ],
   "source": [
    "len(bboxes_new)"
   ]
  },
  {
   "cell_type": "code",
   "execution_count": 34,
   "metadata": {},
   "outputs": [
    {
     "data": {
      "text/plain": [
       "135"
      ]
     },
     "execution_count": 34,
     "metadata": {},
     "output_type": "execute_result"
    }
   ],
   "source": [
    "len(new_slices_dict)"
   ]
  },
  {
   "cell_type": "code",
   "execution_count": 32,
   "metadata": {},
   "outputs": [],
   "source": [
    "bboxes_test = {key:value for key,value in slices_dict.items() if key not in new_slices_dict}"
   ]
  },
  {
   "cell_type": "code",
   "execution_count": 33,
   "metadata": {},
   "outputs": [
    {
     "data": {
      "text/plain": [
       "51"
      ]
     },
     "execution_count": 33,
     "metadata": {},
     "output_type": "execute_result"
    }
   ],
   "source": [
    "len(bboxes_test)"
   ]
  },
  {
   "cell_type": "code",
   "execution_count": 36,
   "metadata": {},
   "outputs": [],
   "source": [
    "with open(data_dir+'slice_train_dict.json', 'w')as fp:\n",
    "    json.dump(new_slices_dict, fp)\n",
    "    \n",
    "with open(data_dir+'slices_test_dict.json', 'w')as fp:\n",
    "    json.dump(bboxes_test, fp)"
   ]
  },
  {
   "cell_type": "markdown",
   "metadata": {},
   "source": [
    "## 5m images"
   ]
  },
  {
   "cell_type": "code",
   "execution_count": 48,
   "metadata": {},
   "outputs": [],
   "source": [
    "## choose coords for 30m images\n",
    "small= 84**2\n",
    "middle= 187**2\n",
    "\n",
    "import random\n",
    "\n",
    "\n",
    "keys_5m = list(coords_dict.keys())\n",
    "random.shuffle(keys_5m)"
   ]
  },
  {
   "cell_type": "code",
   "execution_count": 49,
   "metadata": {},
   "outputs": [],
   "source": [
    "from collections import defaultdict\n",
    "\n",
    "small_count, middle_count, large_count = 0,0,0\n",
    "\n",
    "new_coords_dict = defaultdict(list)\n",
    "\n",
    "for key in keys_5m :\n",
    "    values= coords_dict[key]\n",
    "    for value in values:\n",
    "        xmin, ymin, xmax, ymax= value\n",
    "        area = (xmax-xmin)*(ymax-ymin)\n",
    "        if area< small and small_count< 135:\n",
    "            new_coords_dict[key].append(value)\n",
    "            small_count+=1\n",
    "        if small<=area<middle and middle_count < 135:\n",
    "            new_coords_dict[key].append(value)\n",
    "            middle_count+=1\n",
    "        if area >= middle and large_count <135:\n",
    "            new_coords_dict[key].append(value)\n",
    "            large_count +=1 "
   ]
  },
  {
   "cell_type": "code",
   "execution_count": 50,
   "metadata": {},
   "outputs": [],
   "source": [
    "bboxes_new = [x for x in chain.from_iterable(new_coords_dict.values())]"
   ]
  },
  {
   "cell_type": "code",
   "execution_count": 51,
   "metadata": {},
   "outputs": [
    {
     "data": {
      "text/plain": [
       "405"
      ]
     },
     "execution_count": 51,
     "metadata": {},
     "output_type": "execute_result"
    }
   ],
   "source": [
    "len(bboxes_new)"
   ]
  },
  {
   "cell_type": "code",
   "execution_count": 55,
   "metadata": {},
   "outputs": [],
   "source": [
    "bboxes_test = {key:value for key,value in coords_dict.items() if key not in new_coords_dict}"
   ]
  },
  {
   "cell_type": "code",
   "execution_count": 58,
   "metadata": {},
   "outputs": [
    {
     "data": {
      "text/plain": [
       "224"
      ]
     },
     "execution_count": 58,
     "metadata": {},
     "output_type": "execute_result"
    }
   ],
   "source": [
    "len(new_coords_dict)"
   ]
  },
  {
   "cell_type": "code",
   "execution_count": 56,
   "metadata": {},
   "outputs": [
    {
     "data": {
      "text/plain": [
       "2500"
      ]
     },
     "execution_count": 56,
     "metadata": {},
     "output_type": "execute_result"
    }
   ],
   "source": [
    "len(bboxes_test)"
   ]
  },
  {
   "cell_type": "code",
   "execution_count": 57,
   "metadata": {},
   "outputs": [
    {
     "data": {
      "text/plain": [
       "2724"
      ]
     },
     "execution_count": 57,
     "metadata": {},
     "output_type": "execute_result"
    }
   ],
   "source": [
    "len(coords_dict)"
   ]
  },
  {
   "cell_type": "code",
   "execution_count": 59,
   "metadata": {},
   "outputs": [],
   "source": [
    "with open(data_dir+'coords_train_dict.json', 'w') as fp:\n",
    "    json.dump(new_coords_dict, fp)\n",
    "with open(data_dir+'coords_test_dict.json', 'w') as fp:\n",
    "    json.dump(bboxes_test, fp)\n"
   ]
  }
 ],
 "metadata": {
  "kernelspec": {
   "display_name": "sr-gpu",
   "language": "python",
   "name": "sr-gpu"
  },
  "language_info": {
   "codemirror_mode": {
    "name": "ipython",
    "version": 3
   },
   "file_extension": ".py",
   "mimetype": "text/x-python",
   "name": "python",
   "nbconvert_exporter": "python",
   "pygments_lexer": "ipython3",
   "version": "3.6.8"
  }
 },
 "nbformat": 4,
 "nbformat_minor": 4
}
