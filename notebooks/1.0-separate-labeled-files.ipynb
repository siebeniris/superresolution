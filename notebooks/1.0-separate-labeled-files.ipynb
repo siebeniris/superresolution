{
 "cells": [
  {
   "cell_type": "code",
   "execution_count": 18,
   "metadata": {},
   "outputs": [
    {
     "name": "stdout",
     "output_type": "stream",
     "text": [
      "/home/yiyi/Documents/master-computerlinguistik/ss2019/praktikum-bigdatascience/superresoluton/notebooks\n",
      "Python 3.7.3\n"
     ]
    }
   ],
   "source": [
    "!pwd\n",
    "! python --version"
   ]
  },
  {
   "cell_type": "code",
   "execution_count": 33,
   "metadata": {},
   "outputs": [],
   "source": [
    "data_path='/home/yiyi/Documents/master-computerlinguistik/ss2019/praktikum-bigdatascience/superresoluton/data/interim/'\n",
    "# ignore the inferenz data"
   ]
  },
  {
   "cell_type": "code",
   "execution_count": 23,
   "metadata": {},
   "outputs": [],
   "source": [
    "import glob\n",
    "import pathlib\n",
    "import xml.etree.ElementTree as ET\n"
   ]
  },
  {
   "cell_type": "code",
   "execution_count": 51,
   "metadata": {},
   "outputs": [
    {
     "name": "stdout",
     "output_type": "stream",
     "text": [
      "3389\n",
      "[PosixPath('/home/yiyi/Documents/master-computerlinguistik/ss2019/praktikum-bigdatascience/superresoluton/data/interim/data/s464_5m/1710/gelabelt/DJI_0074/DJI_0074-0-1024.xml')]\n"
     ]
    }
   ],
   "source": [
    "# count the number of all xmlfiles\n",
    "data_ = data_path+'/data/'\n",
    "data_root = pathlib.Path(data_)\n",
    "xmlfiles=list(set( [file for file in data_root.glob('**/*.xml')]))\n",
    "print(len(xmlfiles)) \n",
    "print(xmlfiles[:1])"
   ]
  },
  {
   "cell_type": "code",
   "execution_count": 50,
   "metadata": {},
   "outputs": [
    {
     "data": {
      "text/plain": [
       "9602"
      ]
     },
     "execution_count": 50,
     "metadata": {},
     "output_type": "execute_result"
    }
   ],
   "source": [
    "# count the number of all the images\n",
    "data_ = data_path+'/data/'\n",
    "data_root = pathlib.Path(data_)\n",
    "all_images= list(set( [file for file in data_root.glob('**/*.JPG')]))\n",
    "len(all_images) # all images, including 1240x1240\n"
   ]
  },
  {
   "cell_type": "code",
   "execution_count": 30,
   "metadata": {},
   "outputs": [
    {
     "data": {
      "text/plain": [
       "2765"
      ]
     },
     "execution_count": 30,
     "metadata": {},
     "output_type": "execute_result"
    }
   ],
   "source": [
    "# read xml files, and extract those which including name seedling in it\n",
    "def read_xml(files):\n",
    "    filenames = list()\n",
    "    imagefiles=list()\n",
    "    for i, file in enumerate(files):\n",
    "        try:\n",
    "            root = ET.parse(file).getroot()\n",
    "\n",
    "            for obj in root.iter('object'):\n",
    "                if obj.find('name').text=='seedling':\n",
    "                    \n",
    "                    filenames.append(file)\n",
    "        except:\n",
    "            print('falire')\n",
    "\n",
    "    return filenames\n",
    "\n",
    "filenames = read_xml(xmlfiles)\n",
    "xml_files = list(set(filenames))\n",
    "len(xml_files)"
   ]
  },
  {
   "cell_type": "code",
   "execution_count": 35,
   "metadata": {},
   "outputs": [],
   "source": [
    "# define the separated data directories\n",
    "labeled_image_folder = data_path+'separated_data/labeled/images/'\n",
    "labeled_xml_folder = data_path+'separated_data/labeled/xmls/'\n",
    "unlabeled_folder = data_path + 'separated_data/unlabeled/'\n"
   ]
  },
  {
   "cell_type": "code",
   "execution_count": 36,
   "metadata": {},
   "outputs": [
    {
     "data": {
      "text/plain": [
       "2724"
      ]
     },
     "execution_count": 36,
     "metadata": {},
     "output_type": "execute_result"
    }
   ],
   "source": [
    "import IPython.display as display\n",
    "import os\n",
    "from shutil import copyfile\n",
    "\n",
    "# move labelled images to labeled_image_folder, and corresponding xml to labeled_xml_folder\n",
    "image_paths=list()\n",
    "for file in xml_files:\n",
    "    image_file = str(file).replace('xml','JPG')\n",
    "    if os.path.isfile(image_file):        \n",
    "        image_paths.append(image_file)\n",
    "        image_file_name = '-'.join(image_file.split('/')[-5:])\n",
    "        copyfile(image_file, labeled_image_folder+image_file_name)\n",
    "        xml_file_name = '-'.join(str(file).split('/')[-5:])\n",
    "        copyfile(str(file), labeled_xml_folder+xml_file_name)\n",
    "    else:\n",
    "        continue\n",
    "\n",
    "# display.display(display.Image(image_paths[-1]))\n",
    "len(image_paths)"
   ]
  },
  {
   "cell_type": "code",
   "execution_count": 37,
   "metadata": {},
   "outputs": [
    {
     "name": "stdout",
     "output_type": "stream",
     "text": [
      "2724\n"
     ]
    }
   ],
   "source": [
    "# confirm if the separated data images are the same as extracted\n",
    "image_root = pathlib.Path(labeled_image_folder)\n",
    "images= [str(file) for file in image_root.glob('**/*.JPG')]\n",
    "print(len(images)) # images that are in labeled_image_folder"
   ]
  },
  {
   "cell_type": "code",
   "execution_count": 44,
   "metadata": {},
   "outputs": [
    {
     "name": "stdout",
     "output_type": "stream",
     "text": [
      "['/home/yiyi/Documents/master-computerlinguistik/ss2019/praktikum-bigdatascience/superresoluton/data/interim//data/s466_5m/1710/gelabelt', '/home/yiyi/Documents/master-computerlinguistik/ss2019/praktikum-bigdatascience/superresoluton/data/interim//data/s466_5m/1708/gelabelt', '/home/yiyi/Documents/master-computerlinguistik/ss2019/praktikum-bigdatascience/superresoluton/data/interim//data/s464_5m/1710/gelabelt', '/home/yiyi/Documents/master-computerlinguistik/ss2019/praktikum-bigdatascience/superresoluton/data/interim//data/s464_5m/1708/gelabelt']\n"
     ]
    }
   ],
   "source": [
    "# move all the unlabeled images to unlabeled_folder\n",
    "# find all the directories \n",
    "directories = [data_+directory  \n",
    "               for directory in ['s466_5m/1710/gelabelt', 's466_5m/1708/gelabelt',\n",
    "                        's464_5m/1710/gelabelt', 's464_5m/1708/gelabelt']]\n",
    "print(directories)\n"
   ]
  },
  {
   "cell_type": "code",
   "execution_count": 45,
   "metadata": {},
   "outputs": [
    {
     "data": {
      "text/plain": [
       "9332"
      ]
     },
     "execution_count": 45,
     "metadata": {},
     "output_type": "execute_result"
    }
   ],
   "source": [
    "# check all the images in the gelabelt folders\n",
    "all_images=list()\n",
    "for path in directories:\n",
    "    data_root = pathlib.Path(path)\n",
    "    all_images.extend([file for file in data_root.glob('**/*.JPG')])\n",
    "\n",
    "len(all_images)"
   ]
  },
  {
   "cell_type": "code",
   "execution_count": 46,
   "metadata": {},
   "outputs": [],
   "source": [
    "# find all the unlabeled images\n",
    "all_images = [str(file) for file in all_images]\n",
    "left_images = set(all_images).difference(set(image_paths))"
   ]
  },
  {
   "cell_type": "code",
   "execution_count": 47,
   "metadata": {},
   "outputs": [
    {
     "data": {
      "text/plain": [
       "('/home/yiyi/Documents/master-computerlinguistik/ss2019/praktikum-bigdatascience/superresoluton/data/interim/data/s464_5m/1710/gelabelt/DJI_0031/DJI_0031-3072-1024.JPG',\n",
       " 6608)"
      ]
     },
     "execution_count": 47,
     "metadata": {},
     "output_type": "execute_result"
    }
   ],
   "source": [
    "left_images=list(left_images)\n",
    "left_images[1], len(left_images)"
   ]
  },
  {
   "cell_type": "code",
   "execution_count": 48,
   "metadata": {},
   "outputs": [],
   "source": [
    "# move\n",
    "from shutil import copyfile\n",
    "\n",
    "# move labelled images to labeled_image_folder, and corresponding xml to labeled_xml_folder\n",
    "for image_file in left_images:\n",
    "\n",
    "    if os.path.isfile(image_file):        \n",
    "        image_file_name = '-'.join(image_file.split('/')[-5:])\n",
    "        copyfile(image_file, unlabeled_folder+image_file_name)\n",
    "        \n",
    "    else:\n",
    "        continue\n",
    "\n"
   ]
  }
 ],
 "metadata": {
  "kernelspec": {
   "display_name": "Python (fast_env)",
   "language": "python",
   "name": "fast_env"
  },
  "language_info": {
   "codemirror_mode": {
    "name": "ipython",
    "version": 3
   },
   "file_extension": ".py",
   "mimetype": "text/x-python",
   "name": "python",
   "nbconvert_exporter": "python",
   "pygments_lexer": "ipython3",
   "version": "3.5.1"
  }
 },
 "nbformat": 4,
 "nbformat_minor": 4
}
