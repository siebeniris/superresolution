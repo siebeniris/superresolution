{
 "cells": [
  {
   "cell_type": "code",
   "execution_count": 2,
   "metadata": {},
   "outputs": [
    {
     "name": "stdout",
     "output_type": "stream",
     "text": [
      "/home/yiyi/Documents/master-computerlinguistik/ss2019/praktikum_bigdatascience/superresoluton/notebooks\n"
     ]
    }
   ],
   "source": [
    "!pwd"
   ]
  },
  {
   "cell_type": "code",
   "execution_count": 4,
   "metadata": {},
   "outputs": [
    {
     "name": "stdout",
     "output_type": "stream",
     "text": [
      "Python 3.7.3\n"
     ]
    }
   ],
   "source": [
    "!python --version"
   ]
  },
  {
   "cell_type": "code",
   "execution_count": 28,
   "metadata": {},
   "outputs": [],
   "source": [
    "data_dir = '/home/yiyi/Documents/master-computerlinguistik/ss2019/praktikum_bigdatascience/superresoluton/data/interim/separated_data/sets/'\n",
    "test_file = data_dir + 'data_summer.test'\n",
    "train_file = data_dir + 'data_summer.train'"
   ]
  },
  {
   "cell_type": "code",
   "execution_count": 23,
   "metadata": {},
   "outputs": [],
   "source": [
    "def read_file(file):\n",
    "    with open(file)as f:\n",
    "        return f.read()"
   ]
  },
  {
   "cell_type": "code",
   "execution_count": 25,
   "metadata": {},
   "outputs": [
    {
     "data": {
      "text/plain": [
       "['data/interim/data/s466_5m/1708/gelabelt/DJI_0004/DJI_0004-2560-0',\n",
       " 'data/interim/data/s466_5m/1708/gelabelt/DJI_0015/DJI_0015-2048-1024',\n",
       " 'data/interim/data/s466_5m/1708/gelabelt/DJI_0004/DJI_0004-1024-512',\n",
       " 'data/interim/data/s464_5m/1708/gelabelt/DJI_0050/DJI_0050-512-512',\n",
       " 'data/interim/data/s466_5m/1708/gelabelt/DJI_0029/DJI_0029-512-512',\n",
       " 'data/interim/data/s464_5m/1708/gelabelt/DJI_0049/DJI_0049-1536-2048',\n",
       " 'data/interim/data/s466_5m/1708/gelabelt/DJI_0004/DJI_0004-2048-2048',\n",
       " 'data/interim/data/s464_5m/1708/gelabelt/DJI_0050/DJI_0050-512-1536',\n",
       " 'data/interim/data/s466_5m/1708/gelabelt/DJI_0036/DJI_0036-2048-2048',\n",
       " 'data/interim/data/s464_5m/1708/gelabelt/DJI_0062/DJI_0062-0-0']"
      ]
     },
     "execution_count": 25,
     "metadata": {},
     "output_type": "execute_result"
    }
   ],
   "source": [
    "test= read_file(test_file)\n",
    "test_list = test.split('.JPG')\n",
    "len(test_list)\n",
    "test_list[:10]"
   ]
  },
  {
   "cell_type": "code",
   "execution_count": 26,
   "metadata": {},
   "outputs": [
    {
     "data": {
      "text/plain": [
       "['data/interim/data/s466_5m/1708/gelabelt/DJI_0004/DJI_0004-2560-0',\n",
       " 'data/interim/data/s466_5m/1708/gelabelt/DJI_0015/DJI_0015-2048-1024',\n",
       " 'data/interim/data/s466_5m/1708/gelabelt/DJI_0004/DJI_0004-1024-512',\n",
       " 'data/interim/data/s464_5m/1708/gelabelt/DJI_0050/DJI_0050-512-512',\n",
       " 'data/interim/data/s466_5m/1708/gelabelt/DJI_0029/DJI_0029-512-512',\n",
       " 'data/interim/data/s464_5m/1708/gelabelt/DJI_0049/DJI_0049-1536-2048',\n",
       " 'data/interim/data/s466_5m/1708/gelabelt/DJI_0004/DJI_0004-2048-2048',\n",
       " 'data/interim/data/s464_5m/1708/gelabelt/DJI_0050/DJI_0050-512-1536',\n",
       " 'data/interim/data/s466_5m/1708/gelabelt/DJI_0036/DJI_0036-2048-2048',\n",
       " 'data/interim/data/s464_5m/1708/gelabelt/DJI_0062/DJI_0062-0-0']"
      ]
     },
     "execution_count": 26,
     "metadata": {},
     "output_type": "execute_result"
    }
   ],
   "source": [
    "train = read_file(train_file)\n",
    "train_list = test.split('.JPG')\n",
    "len(train_list)\n",
    "train_list[:10]"
   ]
  },
  {
   "cell_type": "code",
   "execution_count": 33,
   "metadata": {},
   "outputs": [],
   "source": [
    "def process(filelist, name):\n",
    "    with open(data_dir+ name, 'w') as file:\n",
    "        for filename in filelist:\n",
    "            filename=filename.replace('data/interim/data/','').replace('/','-')\n",
    "            file.write(filename+'\\n')\n",
    "            "
   ]
  },
  {
   "cell_type": "code",
   "execution_count": 34,
   "metadata": {},
   "outputs": [],
   "source": [
    "process(train_list, 'summer_train')\n",
    "process(test_list, 'summer_test')"
   ]
  },
  {
   "cell_type": "code",
   "execution_count": 27,
   "metadata": {},
   "outputs": [
    {
     "data": {
      "text/plain": [
       "set()"
      ]
     },
     "execution_count": 27,
     "metadata": {},
     "output_type": "execute_result"
    }
   ],
   "source": [
    "set(train_list).difference(set(test_list))"
   ]
  },
  {
   "cell_type": "code",
   "execution_count": 35,
   "metadata": {},
   "outputs": [],
   "source": [
    "from pathlib import Path\n"
   ]
  },
  {
   "cell_type": "code",
   "execution_count": 43,
   "metadata": {},
   "outputs": [],
   "source": [
    "datadir = '/home/yiyi/Documents/master-computerlinguistik/ss2019/praktikum_bigdatascience/superresoluton/data/interim/separated_data/'\n",
    "data_root = Path(datadir)\n",
    "data_root.glob('**/*.JPG')\n",
    "data_list= list(set([str(file) for file in data_root.glob('**/*.JPG')]))"
   ]
  },
  {
   "cell_type": "code",
   "execution_count": 45,
   "metadata": {},
   "outputs": [
    {
     "data": {
      "text/plain": [
       "['/home/yiyi/Documents/master-computerlinguistik/ss2019/praktikum_bigdatascience/superresoluton/data/interim/separated_data/labeled/images/s464_5m-1710-gelabelt-DJI_0111-DJI_0111-1536-2048.JPG',\n",
       " '/home/yiyi/Documents/master-computerlinguistik/ss2019/praktikum_bigdatascience/superresoluton/data/interim/separated_data/unlabeled/s466_5m-1710-gelabelt-DJI_0013-DJI_0013-1536-2048.JPG',\n",
       " '/home/yiyi/Documents/master-computerlinguistik/ss2019/praktikum_bigdatascience/superresoluton/data/interim/separated_data/labeled/images/s466_5m-1708-gelabelt-DJI_0034-DJI_0034-1536-2048.JPG',\n",
       " '/home/yiyi/Documents/master-computerlinguistik/ss2019/praktikum_bigdatascience/superresoluton/data/interim/separated_data/unlabeled/s464_5m-1710-gelabelt-DJI_0099-DJI_0099-2048-2048.JPG',\n",
       " '/home/yiyi/Documents/master-computerlinguistik/ss2019/praktikum_bigdatascience/superresoluton/data/interim/separated_data/labeled/images/s464_5m-1710-gelabelt-DJI_0016-DJI_0016-2048-2048.JPG',\n",
       " '/home/yiyi/Documents/master-computerlinguistik/ss2019/praktikum_bigdatascience/superresoluton/data/interim/separated_data/labeled/images/s466_5m-1708-gelabelt-DJI_0025-DJI_0025-3072-2048.JPG',\n",
       " '/home/yiyi/Documents/master-computerlinguistik/ss2019/praktikum_bigdatascience/superresoluton/data/interim/separated_data/unlabeled/s464_5m-1710-gelabelt-DJI_0008-DJI_0008-512-1024.JPG',\n",
       " '/home/yiyi/Documents/master-computerlinguistik/ss2019/praktikum_bigdatascience/superresoluton/data/interim/separated_data/unlabeled/s464_5m-1710-gelabelt-DJI_0077-DJI_0077-3072-1024.JPG',\n",
       " '/home/yiyi/Documents/master-computerlinguistik/ss2019/praktikum_bigdatascience/superresoluton/data/interim/separated_data/unlabeled/s464_5m-1708-gelabelt-DJI_0074-DJI_0074-1024-0.JPG',\n",
       " '/home/yiyi/Documents/master-computerlinguistik/ss2019/praktikum_bigdatascience/superresoluton/data/interim/separated_data/unlabeled/s464_5m-1710-gelabelt-DJI_0064-DJI_0064-512-0.JPG']"
      ]
     },
     "execution_count": 45,
     "metadata": {},
     "output_type": "execute_result"
    }
   ],
   "source": [
    "data_list[:10]"
   ]
  }
 ],
 "metadata": {
  "kernelspec": {
   "display_name": "sr-gpu",
   "language": "python",
   "name": "sr-gpu"
  },
  "language_info": {
   "codemirror_mode": {
    "name": "ipython",
    "version": 3
   },
   "file_extension": ".py",
   "mimetype": "text/x-python",
   "name": "python",
   "nbconvert_exporter": "python",
   "pygments_lexer": "ipython3",
   "version": "3.6.8"
  }
 },
 "nbformat": 4,
 "nbformat_minor": 4
}
